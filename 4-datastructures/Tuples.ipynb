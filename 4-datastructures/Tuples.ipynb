{
 "cells": [
  {
   "cell_type": "markdown",
   "id": "5b6677c2",
   "metadata": {},
   "source": [
    "Tuples are ordered collection of items that are immutable .\n",
    "\n",
    "\n",
    "List vs. Tuple: Key Differences\n",
    "| Feature | List [] | Tuple () | \n",
    "| Mutability | Mutable (can change) | Immutable (can’t) | \n",
    "| Performance | Slightly slower | Slightly faster | \n",
    "| Use cases | Dynamic data | Fixed, read-only data | \n",
    "| Methods | Lots of built-ins | Fewer built-ins | \n",
    "\n",
    "in short:\n",
    "- Use [] when you need a flexible, changeable group of items.\n",
    "- Use () when you want an unchangeable, fixed set—or just need to group things logically.\n",
    "\n",
    "## confusion\n",
    "we use tuple([])   this two braces when tuple constructor is used (in short converting list[] to tuple)\n",
    "otherwise without tuple constructor u can create tuple like\n",
    "num=(1,2,3,4)\n",
    "or with tuple constructor  like   num=tuple([1,2,3])\n",
    "\n",
    "\n",
    "\n"
   ]
  },
  {
   "cell_type": "code",
   "execution_count": 4,
   "id": "ae2da8bc",
   "metadata": {},
   "outputs": [
    {
     "name": "stdout",
     "output_type": "stream",
     "text": [
      "()\n",
      "<class 'tuple'>\n"
     ]
    }
   ],
   "source": [
    "empty_tuple=()\n",
    "print(empty_tuple)\n",
    "print(type(empty_tuple))"
   ]
  },
  {
   "cell_type": "code",
   "execution_count": null,
   "id": "8207117d",
   "metadata": {},
   "outputs": [
    {
     "data": {
      "text/plain": [
       "(1, 2, 3, 4, 5, 6)"
      ]
     },
     "execution_count": 25,
     "metadata": {},
     "output_type": "execute_result"
    }
   ],
   "source": [
    "numbers = tuple([1,2,3,4,5,6])\n",
    "numbers"
   ]
  },
  {
   "cell_type": "code",
   "execution_count": 11,
   "id": "be80e65f",
   "metadata": {},
   "outputs": [
    {
     "data": {
      "text/plain": [
       "[1, 2, 3, 4, 5, 6]"
      ]
     },
     "execution_count": 11,
     "metadata": {},
     "output_type": "execute_result"
    }
   ],
   "source": [
    "list((1,2,3,4,5,6))"
   ]
  },
  {
   "cell_type": "code",
   "execution_count": 12,
   "id": "faf1caf5",
   "metadata": {},
   "outputs": [
    {
     "name": "stdout",
     "output_type": "stream",
     "text": [
      "(1, 'Hell', 3.14, True)\n"
     ]
    }
   ],
   "source": [
    "mixtuple =(1,\"Hell\",3.14,True)\n",
    "print(mixtuple)"
   ]
  },
  {
   "cell_type": "code",
   "execution_count": 13,
   "id": "bc0eb569",
   "metadata": {},
   "outputs": [
    {
     "data": {
      "text/plain": [
       "1"
      ]
     },
     "execution_count": 13,
     "metadata": {},
     "output_type": "execute_result"
    }
   ],
   "source": [
    "#Accesing tuple elements\n",
    "numbers\n",
    "numbers[0]"
   ]
  },
  {
   "cell_type": "code",
   "execution_count": 14,
   "id": "03e1f5c2",
   "metadata": {},
   "outputs": [
    {
     "data": {
      "text/plain": [
       "(1, 2, 3, 4)"
      ]
     },
     "execution_count": 14,
     "metadata": {},
     "output_type": "execute_result"
    }
   ],
   "source": [
    "# slicing like list \n",
    "numbers[0:4]"
   ]
  },
  {
   "cell_type": "code",
   "execution_count": 17,
   "id": "70b3d352",
   "metadata": {},
   "outputs": [
    {
     "name": "stdout",
     "output_type": "stream",
     "text": [
      "(1, 'Hell', 3.14, True, 1, 2, 3, 4, 5, 6)\n"
     ]
    }
   ],
   "source": [
    "## Tuple Operation\n",
    "concat = mixtuple + numbers\n",
    "print(concat)"
   ]
  },
  {
   "cell_type": "code",
   "execution_count": 18,
   "id": "9faef3d3",
   "metadata": {},
   "outputs": [
    {
     "data": {
      "text/plain": [
       "(1, 2, 3, 4, 5, 6, 1, 2, 3, 4, 5, 6, 1, 2, 3, 4, 5, 6)"
      ]
     },
     "execution_count": 18,
     "metadata": {},
     "output_type": "execute_result"
    }
   ],
   "source": [
    "numbers*3\n"
   ]
  },
  {
   "cell_type": "code",
   "execution_count": 21,
   "id": "b64802ea",
   "metadata": {},
   "outputs": [
    {
     "name": "stdout",
     "output_type": "stream",
     "text": [
      "[1, 2, 3, 4, 5]\n",
      "[1, 'dk', 3, 4, 5]\n"
     ]
    }
   ],
   "source": [
    "# immutable nature of tuple\n",
    "lst =[1,2,3,4,5]\n",
    "print(lst)\n",
    "lst[1]=\"dk\"\n",
    "print(lst)\n",
    "\n",
    "# numbers[1]=\"kalr\"   #this will give err coz tuple is immutable"
   ]
  },
  {
   "cell_type": "code",
   "execution_count": null,
   "id": "2abe0f60",
   "metadata": {},
   "outputs": [
    {
     "data": {
      "text/plain": [
       "(1, 2, 3, 4, 5, 6)"
      ]
     },
     "execution_count": 22,
     "metadata": {},
     "output_type": "execute_result"
    }
   ],
   "source": [
    "## Tuple method\n",
    "numbers\n",
    "\n",
    "print(numbers.count(1))\n",
    "print(numbers.index(3))      #return first index of occurence of value 3\n"
   ]
  },
  {
   "cell_type": "code",
   "execution_count": 23,
   "id": "6514f85c",
   "metadata": {},
   "outputs": [
    {
     "name": "stdout",
     "output_type": "stream",
     "text": [
      "(1, 'hell', 3.14)\n",
      "1\n",
      "hell\n",
      "3.14\n"
     ]
    }
   ],
   "source": [
    "#Pack \n",
    "packtuple= 1,\"hell\",3.14\n",
    "print(packtuple)\n",
    "\n",
    "#unpack\n",
    "a,b,c=packtuple\n",
    "print(a)\n",
    "print(b)\n",
    "print(c)"
   ]
  },
  {
   "cell_type": "code",
   "execution_count": 24,
   "id": "7f07b998",
   "metadata": {},
   "outputs": [
    {
     "name": "stdout",
     "output_type": "stream",
     "text": [
      "1\n",
      "2 3 4 5\n",
      "6\n"
     ]
    }
   ],
   "source": [
    "#unpack with *\n",
    "\n",
    "first,*middle,last=numbers\n",
    "print(first)\n",
    "print(*middle)\n",
    "print(last)"
   ]
  },
  {
   "cell_type": "code",
   "execution_count": null,
   "id": "98900848",
   "metadata": {},
   "outputs": [
    {
     "data": {
      "text/plain": [
       "3"
      ]
     },
     "execution_count": 26,
     "metadata": {},
     "output_type": "execute_result"
    }
   ],
   "source": [
    "#Nested List\n",
    "\n",
    "lst =[[1,2,3,4],[6,7,8,9],[1,\"hell\",3.14,\"c\"]]\n",
    "lst[0][2] \n",
    "lst[0][0:3] \n",
    "\n",
    " "
   ]
  },
  {
   "cell_type": "code",
   "execution_count": 27,
   "id": "321590e2",
   "metadata": {},
   "outputs": [
    {
     "name": "stdout",
     "output_type": "stream",
     "text": [
      "(1, 2, 3)\n",
      "c\n"
     ]
    }
   ],
   "source": [
    "nestedtuple=((1,2,3),(\"a\",\"b\",\"c\"),(True,False))\n",
    "\n",
    "#access the elements inside a tuple \n",
    "print(nestedtuple[0])\n",
    "print(nestedtuple[1][2])"
   ]
  },
  {
   "cell_type": "code",
   "execution_count": 28,
   "id": "c1d3abeb",
   "metadata": {},
   "outputs": [
    {
     "name": "stdout",
     "output_type": "stream",
     "text": [
      "1 2 3 \n",
      "a b c \n",
      "True False \n"
     ]
    }
   ],
   "source": [
    "#iterating over nested tuple\n",
    "for subtuple in nestedtuple:\n",
    "    for item in subtuple:\n",
    "        print(item,end=\" \")\n",
    "    print()\n",
    "            "
   ]
  },
  {
   "cell_type": "code",
   "execution_count": null,
   "id": "cbb9e8bc",
   "metadata": {},
   "outputs": [],
   "source": []
  }
 ],
 "metadata": {
  "kernelspec": {
   "display_name": "Python 3",
   "language": "python",
   "name": "python3"
  },
  "language_info": {
   "codemirror_mode": {
    "name": "ipython",
    "version": 3
   },
   "file_extension": ".py",
   "mimetype": "text/x-python",
   "name": "python",
   "nbconvert_exporter": "python",
   "pygments_lexer": "ipython3",
   "version": "3.12.0"
  }
 },
 "nbformat": 4,
 "nbformat_minor": 5
}
