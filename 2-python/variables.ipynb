{
 "cells": [
  {
   "cell_type": "code",
   "execution_count": 1,
   "id": "39b9bafc",
   "metadata": {},
   "outputs": [],
   "source": [
    "## Naming conventions\n",
    "## they must strt with a letter or an '_' and contains letters,numbers and underscores\n",
    "## variables names case sensitive\n",
    "\n",
    "first_name=\"klr\"\n",
    "_type=\"Gen\""
   ]
  },
  {
   "cell_type": "code",
   "execution_count": 2,
   "id": "ffc4b8a3",
   "metadata": {},
   "outputs": [
    {
     "name": "stdout",
     "output_type": "stream",
     "text": [
      "<class 'int'>\n",
      "<class 'str'>\n"
     ]
    }
   ],
   "source": [
    "age=34\n",
    "print(type(age))\n",
    "# type conversion\n",
    "\n",
    "age_str=str(age)\n",
    "print(type(age_str))"
   ]
  },
  {
   "cell_type": "code",
   "execution_count": 3,
   "id": "2850b7b9",
   "metadata": {},
   "outputs": [
    {
     "name": "stdout",
     "output_type": "stream",
     "text": [
      "13 <class 'int'>\n",
      "hell <class 'str'>\n"
     ]
    }
   ],
   "source": [
    "# Dynamic Typing \n",
    "# python allows the type of a variable to change as the program executes\n",
    "var=13    #int\n",
    "print(var,type(var))\n",
    "\n",
    "var=\"hell\"\n",
    "print(var,type(var))"
   ]
  },
  {
   "cell_type": "code",
   "execution_count": 4,
   "id": "3a3c4dcd",
   "metadata": {},
   "outputs": [
    {
     "name": "stdout",
     "output_type": "stream",
     "text": [
      "55\n"
     ]
    }
   ],
   "source": [
    "#input \n",
    "age= input(\"enter age\")\n",
    "print(age)"
   ]
  },
  {
   "cell_type": "code",
   "execution_count": null,
   "id": "af9e86ca",
   "metadata": {},
   "outputs": [],
   "source": []
  }
 ],
 "metadata": {
  "kernelspec": {
   "display_name": "Python 3",
   "language": "python",
   "name": "python3"
  },
  "language_info": {
   "codemirror_mode": {
    "name": "ipython",
    "version": 3
   },
   "file_extension": ".py",
   "mimetype": "text/x-python",
   "name": "python",
   "nbconvert_exporter": "python",
   "pygments_lexer": "ipython3",
   "version": "3.12.0"
  }
 },
 "nbformat": 4,
 "nbformat_minor": 5
}
