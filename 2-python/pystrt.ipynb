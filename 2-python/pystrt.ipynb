{
 "cells": [
  {
   "cell_type": "code",
   "execution_count": 3,
   "id": "ddb463a0",
   "metadata": {},
   "outputs": [
    {
     "name": "stdout",
     "output_type": "stream",
     "text": [
      "kel\n",
      "trl\n"
     ]
    }
   ],
   "source": [
    "# python case sensitive \n",
    "name=\"kel\"\n",
    "Name=\"trl\"\n",
    "\n",
    "print(name)\n",
    "print(Name)"
   ]
  },
  {
   "cell_type": "code",
   "execution_count": null,
   "id": "960a0604",
   "metadata": {},
   "outputs": [
    {
     "name": "stdout",
     "output_type": "stream",
     "text": [
      "5\n"
     ]
    }
   ],
   "source": [
    "# Indentation is used by python to  define block of code \n",
    "\n",
    "age=5\n",
    "if age>30: \n",
    "    age=43\n",
    "    print(age)\n",
    "print(age)"
   ]
  },
  {
   "cell_type": "code",
   "execution_count": 8,
   "id": "6b25095e",
   "metadata": {},
   "outputs": [
    {
     "name": "stdout",
     "output_type": "stream",
     "text": [
      "20\n"
     ]
    }
   ],
   "source": [
    "## Line continuation , use \\ to continue a statement to the next line \n",
    "\n",
    "total=1+3+6+\\\n",
    "10\n",
    "print(total)  # Output: 20"
   ]
  },
  {
   "cell_type": "code",
   "execution_count": 10,
   "id": "20dbb4ad",
   "metadata": {},
   "outputs": [
    {
     "name": "stdout",
     "output_type": "stream",
     "text": [
      "7\n"
     ]
    },
    {
     "data": {
      "text/plain": [
       "str"
      ]
     },
     "execution_count": 10,
     "metadata": {},
     "output_type": "execute_result"
    }
   ],
   "source": [
    "## Multiple statements on a single line \n",
    "\n",
    "x=4;y=3;z=x+y\n",
    "print(z)\n",
    "naam=\"trik\"   ## naam is string auto idenitified by kernel at run time \n",
    "type(naam)\n"
   ]
  },
  {
   "cell_type": "code",
   "execution_count": null,
   "id": "808fa733",
   "metadata": {},
   "outputs": [],
   "source": []
  }
 ],
 "metadata": {
  "kernelspec": {
   "display_name": "Python 3",
   "language": "python",
   "name": "python3"
  },
  "language_info": {
   "codemirror_mode": {
    "name": "ipython",
    "version": 3
   },
   "file_extension": ".py",
   "mimetype": "text/x-python",
   "name": "python",
   "nbconvert_exporter": "python",
   "pygments_lexer": "ipython3",
   "version": "3.12.0"
  }
 },
 "nbformat": 4,
 "nbformat_minor": 5
}
