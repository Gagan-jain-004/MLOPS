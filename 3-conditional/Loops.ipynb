{
 "cells": [
  {
   "cell_type": "code",
   "execution_count": null,
   "id": "ea0f3e00",
   "metadata": {},
   "outputs": [
    {
     "name": "stdout",
     "output_type": "stream",
     "text": [
      "0\n",
      "1\n",
      "2\n",
      "3\n",
      "4\n",
      "-----\n",
      "1\n",
      "2\n",
      "3\n",
      "4\n"
     ]
    }
   ],
   "source": [
    "#  for loop\n",
    "range(5)\n",
    "\n",
    "for i in range(5):\n",
    "    print(i)\n",
    "print(\"-----\")    \n",
    "\n",
    "for i in range(1,5):\n",
    "    print(i)"
   ]
  },
  {
   "cell_type": "code",
   "execution_count": 6,
   "id": "07cf179a",
   "metadata": {},
   "outputs": [
    {
     "name": "stdout",
     "output_type": "stream",
     "text": [
      "1\n",
      "3\n"
     ]
    }
   ],
   "source": [
    "\n",
    "for i in range(1,5,2):     # it make gap of 2\n",
    "    print(i)"
   ]
  },
  {
   "cell_type": "code",
   "execution_count": 7,
   "id": "e14bbb44",
   "metadata": {},
   "outputs": [
    {
     "name": "stdout",
     "output_type": "stream",
     "text": [
      "c\n",
      "l\n",
      "d\n",
      "k\n",
      "s\n",
      "l\n"
     ]
    }
   ],
   "source": [
    "#Strings \n",
    "str=\"cldksl\"\n",
    "\n",
    "for i in str:\n",
    "    print(i)"
   ]
  },
  {
   "cell_type": "code",
   "execution_count": 8,
   "id": "8293b4e2",
   "metadata": {},
   "outputs": [
    {
     "name": "stdout",
     "output_type": "stream",
     "text": [
      "0\n",
      "1\n",
      "2\n"
     ]
    }
   ],
   "source": [
    "# while loop\n",
    "\n",
    "count=0\n",
    "while(count<3):\n",
    "    print(count)\n",
    "    count= count+1"
   ]
  },
  {
   "cell_type": "code",
   "execution_count": 10,
   "id": "276abbd0",
   "metadata": {},
   "outputs": [
    {
     "name": "stdout",
     "output_type": "stream",
     "text": [
      "kel\n",
      "kel\n"
     ]
    }
   ],
   "source": [
    "# Loop control Statements\n",
    "# break statement exists the loop permaturely\n",
    "\n",
    "for i in range(5):\n",
    "    if i==2:\n",
    "        break\n",
    "    print(\"kel\")"
   ]
  },
  {
   "cell_type": "code",
   "execution_count": 11,
   "id": "ad6163e4",
   "metadata": {},
   "outputs": [
    {
     "name": "stdout",
     "output_type": "stream",
     "text": [
      "1\n",
      "3\n",
      "5\n",
      "7\n",
      "9\n"
     ]
    }
   ],
   "source": [
    "# continue statement skips the current and continue the next \n",
    "\n",
    "for i in range(10):\n",
    "    if i%2==0:\n",
    "        continue\n",
    "    print(i)"
   ]
  },
  {
   "cell_type": "code",
   "execution_count": 12,
   "id": "4998d7eb",
   "metadata": {},
   "outputs": [
    {
     "name": "stdout",
     "output_type": "stream",
     "text": [
      "0\n",
      "1\n",
      "2\n",
      "3\n",
      "4\n"
     ]
    }
   ],
   "source": [
    "# pass statement is a null operation , it does nothing \n",
    "\n",
    "for i in range(5):\n",
    "    if i==3:\n",
    "        pass\n",
    "    print(i)\n"
   ]
  },
  {
   "cell_type": "code",
   "execution_count": null,
   "id": "cc9217e2",
   "metadata": {},
   "outputs": [
    {
     "name": "stdout",
     "output_type": "stream",
     "text": [
      "i:0and j: 0\n",
      "i:0and j: 1\n",
      "i:1and j: 0\n",
      "i:1and j: 1\n",
      "i:2and j: 0\n",
      "i:2and j: 1\n"
     ]
    }
   ],
   "source": [
    "# nested loops \n",
    "for i in range(3):\n",
    "    for j in range(2):\n",
    "        print(f\"i:{i}and j: {j}\")"
   ]
  },
  {
   "cell_type": "code",
   "execution_count": 17,
   "id": "35dbd085",
   "metadata": {},
   "outputs": [
    {
     "name": "stdout",
     "output_type": "stream",
     "text": [
      "3\n"
     ]
    }
   ],
   "source": [
    "# sum of first n natural number using while and for loop \n",
    "\n",
    "# via while loop \n",
    "\n",
    "n = int(input(\"enter the number\"))\n",
    "start=1\n",
    "sum=0\n",
    "while(start<=n):\n",
    "    sum=sum+start\n",
    "    start=start+1\n",
    "print(sum)    "
   ]
  },
  {
   "cell_type": "code",
   "execution_count": 18,
   "id": "088c598c",
   "metadata": {},
   "outputs": [
    {
     "name": "stdout",
     "output_type": "stream",
     "text": [
      "3\n"
     ]
    }
   ],
   "source": [
    "# via for loop \n",
    "n = int (input(\"enter the number\"))\n",
    "sum=0\n",
    "for i in range(1,n+1):\n",
    "    sum=sum+i \n",
    "print(sum)    "
   ]
  },
  {
   "cell_type": "code",
   "execution_count": 28,
   "id": "04f77926",
   "metadata": {},
   "outputs": [
    {
     "name": "stdout",
     "output_type": "stream",
     "text": [
      "hell\n",
      "2\n",
      "hell\n",
      "3\n",
      "2\n"
     ]
    }
   ],
   "source": [
    "# Prime number between 1 and 100 \n",
    "\n",
    "for num in range(1,5):\n",
    "    if num>1:\n",
    "        for i in range(2,num):\n",
    "            if num%i==0:\n",
    "                print(i)\n",
    "                break\n",
    "        else:\n",
    "             print(\"hell\")\n",
    "             print(num)\n",
    "       \n",
    "        "
   ]
  },
  {
   "cell_type": "code",
   "execution_count": null,
   "id": "179fc2ed",
   "metadata": {},
   "outputs": [],
   "source": []
  }
 ],
 "metadata": {
  "kernelspec": {
   "display_name": "Python 3",
   "language": "python",
   "name": "python3"
  },
  "language_info": {
   "codemirror_mode": {
    "name": "ipython",
    "version": 3
   },
   "file_extension": ".py",
   "mimetype": "text/x-python",
   "name": "python",
   "nbconvert_exporter": "python",
   "pygments_lexer": "ipython3",
   "version": "3.12.0"
  }
 },
 "nbformat": 4,
 "nbformat_minor": 5
}
