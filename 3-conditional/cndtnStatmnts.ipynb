{
 "cells": [
  {
   "cell_type": "code",
   "execution_count": 1,
   "id": "2de07203",
   "metadata": {},
   "outputs": [
    {
     "name": "stdout",
     "output_type": "stream",
     "text": [
      "below 18\n"
     ]
    }
   ],
   "source": [
    "# if else  statement\n",
    "age =12\n",
    "\n",
    "if age>=18:\n",
    "    print(\"you elgible\")\n",
    "else:\n",
    "    print(\"below 18\")    \n"
   ]
  },
  {
   "cell_type": "code",
   "execution_count": 2,
   "id": "d1c5d1e4",
   "metadata": {},
   "outputs": [
    {
     "name": "stdout",
     "output_type": "stream",
     "text": [
      "teen\n"
     ]
    }
   ],
   "source": [
    "# elif    to check multiple statements \n",
    "age =17\n",
    "\n",
    "if age<13:\n",
    "    print(\"child\")\n",
    "elif age<18:\n",
    "    print(\"teen\")\n",
    "else: \n",
    "    print(\"sabka\")        \n",
    " "
   ]
  },
  {
   "cell_type": "code",
   "execution_count": 4,
   "id": "7c0a4703",
   "metadata": {},
   "outputs": [
    {
     "name": "stdout",
     "output_type": "stream",
     "text": [
      "the no. is positive\n",
      "odd\n"
     ]
    }
   ],
   "source": [
    "# nested if else \n",
    "\n",
    "num = int(input(\"enter a number\"))\n",
    "\n",
    "if num>0:\n",
    "    print(\"the no. is positive\")\n",
    "    if num%2==0:\n",
    "        print(\"even no.\")\n",
    "    else: \n",
    "        print(\"odd\")\n",
    "else:\n",
    "    print(\"negative or 0 \")                "
   ]
  },
  {
   "cell_type": "code",
   "execution_count": 5,
   "id": "ada7e1fe",
   "metadata": {},
   "outputs": [
    {
     "name": "stdout",
     "output_type": "stream",
     "text": [
      "cant divide by 0\n"
     ]
    }
   ],
   "source": [
    "# calculator\n",
    "n= int(input(\"enter first number\"))\n",
    "m= int(input(\"enter second number\"))\n",
    "\n",
    "operation = str(input(\"enter the operation + ,- ,*,/\"))\n",
    "\n",
    "if operation=='+' :\n",
    "    print(\"addition\",n+m)\n",
    "elif operation=='-':\n",
    "    print(\"subtraction\",n-m) \n",
    "elif operation=='*':\n",
    "    print(\"multiplication\",n*m)\n",
    "elif operation=='/':\n",
    "    if m!=0:\n",
    "        print(\"division is\",n/m)\n",
    "    else:\n",
    "        print(\"cant divide by 0\")\n",
    "else:\n",
    "    print(\"no such operation\")                           \n"
   ]
  },
  {
   "cell_type": "code",
   "execution_count": null,
   "id": "9c92475a",
   "metadata": {},
   "outputs": [],
   "source": []
  }
 ],
 "metadata": {
  "kernelspec": {
   "display_name": "Python 3",
   "language": "python",
   "name": "python3"
  },
  "language_info": {
   "codemirror_mode": {
    "name": "ipython",
    "version": 3
   },
   "file_extension": ".py",
   "mimetype": "text/x-python",
   "name": "python",
   "nbconvert_exporter": "python",
   "pygments_lexer": "ipython3",
   "version": "3.12.0"
  }
 },
 "nbformat": 4,
 "nbformat_minor": 5
}
